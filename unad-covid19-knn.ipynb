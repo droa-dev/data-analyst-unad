{
 "cells": [
  {
   "cell_type": "markdown",
   "id": "8401d7f0-eec0-4cb6-b226-0e7dc9570478",
   "metadata": {},
   "source": [
    "## Importar Librerias"
   ]
  },
  {
   "cell_type": "code",
   "execution_count": 1,
   "id": "b6f683d8-f66e-4001-9ceb-46384f89d7dc",
   "metadata": {},
   "outputs": [],
   "source": [
    "import numpy as np \n",
    "import pandas as pd \n",
    "import seaborn as sns\n",
    "import matplotlib.pyplot as plt\n",
    "from sklearn.model_selection import train_test_split\n",
    "from sklearn.linear_model import LogisticRegression\n",
    "from sklearn.preprocessing import MinMaxScaler\n",
    "from sklearn.tree import DecisionTreeClassifier\n",
    "from sklearn.tree import plot_tree\n",
    "from sklearn.neighbors import KNeighborsClassifier\n",
    "from sklearn.metrics import precision_score, recall_score, accuracy_score, f1_score, confusion_matrix, ConfusionMatrixDisplay, classification_report"
   ]
  },
  {
   "cell_type": "markdown",
   "id": "e9017d24-fd0a-4a80-bca9-0d621858d085",
   "metadata": {},
   "source": [
    "## Cargar Datos"
   ]
  },
  {
   "cell_type": "code",
   "execution_count": 2,
   "id": "d34cc4f4-a047-4786-bc80-01e6b549c593",
   "metadata": {},
   "outputs": [
    {
     "name": "stdout",
     "output_type": "stream",
     "text": [
      "<class 'pandas.core.frame.DataFrame'>\n",
      "RangeIndex: 316800 entries, 0 to 316799\n",
      "Data columns (total 27 columns):\n",
      " #   Column                   Non-Null Count   Dtype \n",
      "---  ------                   --------------   ----- \n",
      " 0   Fever                    316800 non-null  int64 \n",
      " 1   Tiredness                316800 non-null  int64 \n",
      " 2   Dry-Cough                316800 non-null  int64 \n",
      " 3   Difficulty-in-Breathing  316800 non-null  int64 \n",
      " 4   Sore-Throat              316800 non-null  int64 \n",
      " 5   None_Sympton             316800 non-null  int64 \n",
      " 6   Pains                    316800 non-null  int64 \n",
      " 7   Nasal-Congestion         316800 non-null  int64 \n",
      " 8   Runny-Nose               316800 non-null  int64 \n",
      " 9   Diarrhea                 316800 non-null  int64 \n",
      " 10  None_Experiencing        316800 non-null  int64 \n",
      " 11  Age_0-9                  316800 non-null  int64 \n",
      " 12  Age_10-19                316800 non-null  int64 \n",
      " 13  Age_20-24                316800 non-null  int64 \n",
      " 14  Age_25-59                316800 non-null  int64 \n",
      " 15  Age_60+                  316800 non-null  int64 \n",
      " 16  Gender_Female            316800 non-null  int64 \n",
      " 17  Gender_Male              316800 non-null  int64 \n",
      " 18  Gender_Transgender       316800 non-null  int64 \n",
      " 19  Severity_Mild            316800 non-null  int64 \n",
      " 20  Severity_Moderate        316800 non-null  int64 \n",
      " 21  Severity_None            316800 non-null  int64 \n",
      " 22  Severity_Severe          316800 non-null  int64 \n",
      " 23  Contact_Dont-Know        316800 non-null  int64 \n",
      " 24  Contact_No               316800 non-null  int64 \n",
      " 25  Contact_Yes              316800 non-null  int64 \n",
      " 26  Country                  316800 non-null  object\n",
      "dtypes: int64(26), object(1)\n",
      "memory usage: 65.3+ MB\n"
     ]
    }
   ],
   "source": [
    "ds = pd.read_csv(\"Cleaned-Data.csv\")\n",
    "ds.info()"
   ]
  },
  {
   "cell_type": "markdown",
   "id": "21c5aa52-210f-4be8-a4b3-2799ee5ad0a6",
   "metadata": {},
   "source": [
    "## Limpieza de datos"
   ]
  },
  {
   "cell_type": "code",
   "execution_count": 3,
   "id": "1e32bfe4-c724-4d9a-9125-c682ec758836",
   "metadata": {},
   "outputs": [
    {
     "data": {
      "text/plain": [
       "Fever                      0\n",
       "Tiredness                  0\n",
       "Dry-Cough                  0\n",
       "Difficulty-in-Breathing    0\n",
       "Sore-Throat                0\n",
       "None_Sympton               0\n",
       "Pains                      0\n",
       "Nasal-Congestion           0\n",
       "Runny-Nose                 0\n",
       "Diarrhea                   0\n",
       "None_Experiencing          0\n",
       "Age_0-9                    0\n",
       "Age_10-19                  0\n",
       "Age_20-24                  0\n",
       "Age_25-59                  0\n",
       "Age_60+                    0\n",
       "Gender_Female              0\n",
       "Gender_Male                0\n",
       "Gender_Transgender         0\n",
       "Severity_Mild              0\n",
       "Severity_Moderate          0\n",
       "Severity_None              0\n",
       "Severity_Severe            0\n",
       "Contact_Dont-Know          0\n",
       "Contact_No                 0\n",
       "Contact_Yes                0\n",
       "Country                    0\n",
       "dtype: int64"
      ]
     },
     "execution_count": 3,
     "metadata": {},
     "output_type": "execute_result"
    }
   ],
   "source": [
    "ds.isnull().sum()"
   ]
  },
  {
   "cell_type": "code",
   "execution_count": 4,
   "id": "f4a636a6-511b-430d-a3e4-2c8a219d27db",
   "metadata": {},
   "outputs": [
    {
     "data": {
      "text/plain": [
       "Index(['Fever', 'Tiredness', 'Dry-Cough', 'Difficulty-in-Breathing',\n",
       "       'Sore-Throat', 'None_Sympton', 'Pains', 'Nasal-Congestion',\n",
       "       'Runny-Nose', 'Diarrhea', 'None_Experiencing', 'Age_0-9', 'Age_10-19',\n",
       "       'Age_20-24', 'Age_25-59', 'Age_60+', 'Gender_Female', 'Gender_Male',\n",
       "       'Gender_Transgender', 'Severity_Mild', 'Severity_Moderate',\n",
       "       'Severity_None', 'Severity_Severe', 'Contact_Dont-Know', 'Contact_No',\n",
       "       'Contact_Yes', 'Country'],\n",
       "      dtype='object')"
      ]
     },
     "execution_count": 4,
     "metadata": {},
     "output_type": "execute_result"
    }
   ],
   "source": [
    "ds.columns"
   ]
  },
  {
   "cell_type": "markdown",
   "id": "1e5dc8e2-0051-4c30-8aaf-9e40363b5b45",
   "metadata": {},
   "source": [
    "## Selección de datos"
   ]
  },
  {
   "cell_type": "code",
   "execution_count": 5,
   "id": "ed22c1a7-880f-4133-bdd3-991e3393983d",
   "metadata": {},
   "outputs": [],
   "source": [
    "feature_cols = ['Fever', 'Tiredness', 'Dry-Cough', 'Difficulty-in-Breathing',\n",
    "       'Sore-Throat', 'None_Sympton', 'Pains', 'Nasal-Congestion',\n",
    "       'Runny-Nose', 'Diarrhea', 'None_Experiencing']\n",
    "\n",
    "objetive_col1 = 'Severity_None'\n",
    "objetive_col2 = 'Severity_Mild'\n",
    "objetive_col3 = 'Severity_Moderate'\n",
    "objetive_col4 = 'Severity_Severe'\n",
    "\n",
    "X = ds[feature_cols]\n",
    "y1 = ds[objetive_col1]\n",
    "y2 = ds[objetive_col2]\n",
    "y3 = ds[objetive_col3]\n",
    "y4 = ds[objetive_col4]"
   ]
  },
  {
   "cell_type": "markdown",
   "id": "cb2dc5d5-f95c-4be5-93b5-2922e007931f",
   "metadata": {},
   "source": [
    "## generar los datos de entrenamiento y pruebas"
   ]
  },
  {
   "cell_type": "code",
   "execution_count": 6,
   "id": "619cfa22-1d87-4996-a800-1c9191c6415e",
   "metadata": {},
   "outputs": [],
   "source": [
    "X_train1, X_test1, y_train1, y_test1 = train_test_split(X, y1, test_size = 0.3, random_state=0)\n",
    "X_train2, X_test2, y_train2, y_test2 = train_test_split(X, y2, test_size = 0.3, random_state=0)\n",
    "X_train3, X_test3, y_train3, y_test3 = train_test_split(X, y3, test_size = 0.3, random_state=0)\n",
    "X_train4, X_test4, y_train4, y_test4 = train_test_split(X, y4, test_size = 0.3, random_state=0)"
   ]
  },
  {
   "cell_type": "markdown",
   "id": "c66d4ccc-60ef-4c6d-9a32-2774790c1328",
   "metadata": {},
   "source": [
    "## datos de rendimiento"
   ]
  },
  {
   "cell_type": "code",
   "execution_count": 7,
   "id": "e6a1ed96-8900-4311-b6aa-021c32fdd0b2",
   "metadata": {},
   "outputs": [],
   "source": [
    "def perform(y_test, y_pred, name_cols):\n",
    "    print(\"Precision : \", precision_score(y_test, y_pred))\n",
    "    print(\"Recall : \", recall_score(y_test, y_pred))\n",
    "    print(\"Accuracy : \", accuracy_score(y_test, y_pred))\n",
    "    print(\"F1 Score : \", f1_score(y_test, y_pred))\n",
    "    print('')\n",
    "    print(confusion_matrix(y_test, y_pred), '\\n')\n",
    "    cm = ConfusionMatrixDisplay(confusion_matrix=confusion_matrix(y_test, y_pred))\n",
    "    cm.plot()"
   ]
  },
  {
   "cell_type": "markdown",
   "id": "09bf313d-6e72-4a7f-b37b-cb3dbe4f2cca",
   "metadata": {},
   "source": [
    "## K-Nearest Neighbors"
   ]
  },
  {
   "cell_type": "markdown",
   "id": "18c32a13",
   "metadata": {},
   "source": [
    "### y1: Severity_None"
   ]
  },
  {
   "cell_type": "code",
   "execution_count": 8,
   "id": "b8d06502",
   "metadata": {},
   "outputs": [
    {
     "name": "stdout",
     "output_type": "stream",
     "text": [
      "Accuracy of K-NN classifier on training set: 0.75\n",
      "Accuracy of K-NN classifier on test set: 0.75\n"
     ]
    }
   ],
   "source": [
    "knn = KNeighborsClassifier(n_neighbors = 10) #setting up the KNN model to use 10NN\n",
    "knn.fit(X_train1, y_train1) #fitting the KNN\n",
    "\n",
    "#Checking performance on the training set\n",
    "print('Accuracy of K-NN classifier on training set: {:.2f}'\n",
    "     .format(knn.score(X_train1, y_train1)))\n",
    "#Checking performance on the test set\n",
    "print('Accuracy of K-NN classifier on test set: {:.2f}'\n",
    "     .format(knn.score(X_test1, y_test1)))"
   ]
  },
  {
   "cell_type": "code",
   "execution_count": 9,
   "id": "b7f6e5c9-f741-45f7-bcb7-924d5b50a003",
   "metadata": {},
   "outputs": [
    {
     "name": "stdout",
     "output_type": "stream",
     "text": [
      "Precision :  0.23694029850746268\n",
      "Recall :  0.005361364403917595\n",
      "Accuracy :  0.7477904040404041\n",
      "F1 Score :  0.010485468956406868\n",
      "\n",
      "[[70943   409]\n",
      " [23561   127]] \n",
      "\n"
     ]
    },
    {
     "data": {
      "image/png": "[encoded data removed]",
      "text/plain": [
       "<Figure size 640x480 with 2 Axes>"
      ]
     },
     "metadata": {},
     "output_type": "display_data"
    }
   ],
   "source": [
    "y_pred_knn = knn.predict(X_test1)\n",
    "perform(y_test1, y_pred_knn, objetive_col1)"
   ]
  },
  {
   "cell_type": "code",
   "execution_count": 10,
   "id": "443b5fec-2ee9-452e-8b6d-6393cd43a638",
   "metadata": {},
   "outputs": [
    {
     "name": "stdout",
     "output_type": "stream",
     "text": [
      "              precision    recall  f1-score   support\n",
      "\n",
      "           0       0.75      0.99      0.86     71352\n",
      "           1       0.24      0.01      0.01     23688\n",
      "\n",
      "    accuracy                           0.75     95040\n",
      "   macro avg       0.49      0.50      0.43     95040\n",
      "weighted avg       0.62      0.75      0.64     95040\n",
      "\n"
     ]
    }
   ],
   "source": [
    "print(classification_report(y_test1, y_pred_knn))"
   ]
  },
  {
   "cell_type": "markdown",
   "id": "312976ba",
   "metadata": {},
   "source": [
    "### y2: Severity_Mild"
   ]
  },
  {
   "cell_type": "code",
   "execution_count": 11,
   "id": "4cb5f665",
   "metadata": {},
   "outputs": [
    {
     "name": "stdout",
     "output_type": "stream",
     "text": [
      "Accuracy of K-NN classifier on training set: 0.74\n",
      "Accuracy of K-NN classifier on test set: 0.74\n"
     ]
    }
   ],
   "source": [
    "knn.fit(X_train2, y_train2) #fitting the KNN\n",
    "\n",
    "#Checking performance on the training set\n",
    "print('Accuracy of K-NN classifier on training set: {:.2f}'\n",
    "     .format(knn.score(X_train2, y_train2)))\n",
    "#Checking performance on the test set\n",
    "print('Accuracy of K-NN classifier on test set: {:.2f}'\n",
    "     .format(knn.score(X_test2, y_test2)))"
   ]
  },
  {
   "cell_type": "code",
   "execution_count": 12,
   "id": "efc21753",
   "metadata": {},
   "outputs": [
    {
     "name": "stdout",
     "output_type": "stream",
     "text": [
      "Precision :  0.2563718140929535\n",
      "Recall :  0.028815772844083078\n",
      "Accuracy :  0.7365635521885522\n",
      "F1 Score :  0.05180836962696459\n",
      "\n",
      "[[69319  1984]\n",
      " [23053   684]] \n",
      "\n"
     ]
    },
    {
     "data": {
      "image/png": "[encoded data removed]",
      "text/plain": [
       "<Figure size 640x480 with 2 Axes>"
      ]
     },
     "metadata": {},
     "output_type": "display_data"
    }
   ],
   "source": [
    "y_pred_knn = knn.predict(X_test2)\n",
    "perform(y_test2, y_pred_knn, objetive_col2)"
   ]
  },
  {
   "cell_type": "code",
   "execution_count": 13,
   "id": "23a917db",
   "metadata": {},
   "outputs": [
    {
     "name": "stdout",
     "output_type": "stream",
     "text": [
      "              precision    recall  f1-score   support\n",
      "\n",
      "           0       0.75      0.97      0.85     71303\n",
      "           1       0.26      0.03      0.05     23737\n",
      "\n",
      "    accuracy                           0.74     95040\n",
      "   macro avg       0.50      0.50      0.45     95040\n",
      "weighted avg       0.63      0.74      0.65     95040\n",
      "\n"
     ]
    }
   ],
   "source": [
    "print(classification_report(y_test2, y_pred_knn))"
   ]
  },
  {
   "cell_type": "markdown",
   "id": "a380b32b",
   "metadata": {},
   "source": [
    "### y3: Severity_Moderate"
   ]
  },
  {
   "cell_type": "code",
   "execution_count": 14,
   "id": "897b0042",
   "metadata": {},
   "outputs": [
    {
     "name": "stdout",
     "output_type": "stream",
     "text": [
      "Accuracy of K-NN classifier on training set: 0.74\n",
      "Accuracy of K-NN classifier on test set: 0.74\n"
     ]
    }
   ],
   "source": [
    "knn.fit(X_train3, y_train3) #fitting the KNN\n",
    "\n",
    "#Checking performance on the training set\n",
    "print('Accuracy of K-NN classifier on training set: {:.2f}'\n",
    "     .format(knn.score(X_train3, y_train3)))\n",
    "#Checking performance on the test set\n",
    "print('Accuracy of K-NN classifier on test set: {:.2f}'\n",
    "     .format(knn.score(X_test3, y_test3)))"
   ]
  },
  {
   "cell_type": "code",
   "execution_count": 15,
   "id": "1877918e",
   "metadata": {},
   "outputs": [
    {
     "name": "stdout",
     "output_type": "stream",
     "text": [
      "Precision :  0.23450134770889489\n",
      "Recall :  0.010952121186689605\n",
      "Accuracy :  0.7430345117845117\n",
      "F1 Score :  0.020926876202694032\n",
      "\n",
      "[[70357   852]\n",
      " [23570   261]] \n",
      "\n"
     ]
    },
    {
     "data": {
      "image/png": "[encoded data removed]",
      "text/plain": [
       "<Figure size 640x480 with 2 Axes>"
      ]
     },
     "metadata": {},
     "output_type": "display_data"
    }
   ],
   "source": [
    "y_pred_knn = knn.predict(X_test3)\n",
    "perform(y_test3, y_pred_knn, objetive_col3)"
   ]
  },
  {
   "cell_type": "code",
   "execution_count": 16,
   "id": "bc3f48c5",
   "metadata": {},
   "outputs": [
    {
     "name": "stdout",
     "output_type": "stream",
     "text": [
      "              precision    recall  f1-score   support\n",
      "\n",
      "           0       0.75      0.99      0.85     71209\n",
      "           1       0.23      0.01      0.02     23831\n",
      "\n",
      "    accuracy                           0.74     95040\n",
      "   macro avg       0.49      0.50      0.44     95040\n",
      "weighted avg       0.62      0.74      0.64     95040\n",
      "\n"
     ]
    }
   ],
   "source": [
    "print(classification_report(y_test3, y_pred_knn))"
   ]
  },
  {
   "cell_type": "markdown",
   "id": "9cd95af8",
   "metadata": {},
   "source": [
    "### y4: Severity_Severe"
   ]
  },
  {
   "cell_type": "code",
   "execution_count": 17,
   "id": "804f2ee4",
   "metadata": {},
   "outputs": [
    {
     "name": "stdout",
     "output_type": "stream",
     "text": [
      "Accuracy of K-NN classifier on training set: 0.73\n",
      "Accuracy of K-NN classifier on test set: 0.73\n"
     ]
    }
   ],
   "source": [
    "knn.fit(X_train4, y_train4) #fitting the KNN\n",
    "\n",
    "#Checking performance on the training set\n",
    "print('Accuracy of K-NN classifier on training set: {:.2f}'\n",
    "     .format(knn.score(X_train4, y_train4)))\n",
    "#Checking performance on the test set\n",
    "print('Accuracy of K-NN classifier on test set: {:.2f}'\n",
    "     .format(knn.score(X_test4, y_test4)))"
   ]
  },
  {
   "cell_type": "code",
   "execution_count": 18,
   "id": "579e75c4",
   "metadata": {},
   "outputs": [
    {
     "name": "stdout",
     "output_type": "stream",
     "text": [
      "Precision :  0.2480477721635278\n",
      "Recall :  0.045408678102926335\n",
      "Accuracy :  0.7266624579124579\n",
      "F1 Score :  0.07676451773402516\n",
      "\n",
      "[[67982  3274]\n",
      " [22704  1080]] \n",
      "\n"
     ]
    },
    {
     "data": {
      "image/png": "[encoded data removed]",
      "text/plain": [
       "<Figure size 640x480 with 2 Axes>"
      ]
     },
     "metadata": {},
     "output_type": "display_data"
    }
   ],
   "source": [
    "y_pred_knn = knn.predict(X_test4)\n",
    "perform(y_test4, y_pred_knn, objetive_col4)"
   ]
  },
  {
   "cell_type": "code",
   "execution_count": 19,
   "id": "b75743ad",
   "metadata": {},
   "outputs": [
    {
     "name": "stdout",
     "output_type": "stream",
     "text": [
      "              precision    recall  f1-score   support\n",
      "\n",
      "           0       0.75      0.95      0.84     71256\n",
      "           1       0.25      0.05      0.08     23784\n",
      "\n",
      "    accuracy                           0.73     95040\n",
      "   macro avg       0.50      0.50      0.46     95040\n",
      "weighted avg       0.62      0.73      0.65     95040\n",
      "\n"
     ]
    }
   ],
   "source": [
    "print(classification_report(y_test4, y_pred_knn))"
   ]
  },
  {
   "cell_type": "markdown",
   "id": "648e9942",
   "metadata": {},
   "source": [
    "## Mejoramiento de precisión del resultado"
   ]
  },
  {
   "cell_type": "markdown",
   "id": "ce27d1a0",
   "metadata": {},
   "source": [
    "#### Aplicar Scaler"
   ]
  },
  {
   "cell_type": "code",
   "execution_count": 20,
   "id": "6fee332f",
   "metadata": {},
   "outputs": [],
   "source": [
    "#scaler\n",
    "scaler = MinMaxScaler()\n",
    "ds[feature_cols] = scaler.fit_transform(ds[feature_cols])"
   ]
  },
  {
   "cell_type": "markdown",
   "id": "9a47288e",
   "metadata": {},
   "source": [
    "#### Generar nuevamente los sets de entrenamiento y pruebas (Severity_None)"
   ]
  },
  {
   "cell_type": "code",
   "execution_count": 21,
   "id": "dbfc0ac2",
   "metadata": {},
   "outputs": [
    {
     "name": "stdout",
     "output_type": "stream",
     "text": [
      "<class 'pandas.core.frame.DataFrame'>\n",
      "RangeIndex: 316800 entries, 0 to 316799\n",
      "Data columns (total 10 columns):\n",
      " #   Column                   Non-Null Count   Dtype  \n",
      "---  ------                   --------------   -----  \n",
      " 0   Fever                    316800 non-null  float64\n",
      " 1   Tiredness                316800 non-null  float64\n",
      " 2   Dry-Cough                316800 non-null  float64\n",
      " 3   Difficulty-in-Breathing  316800 non-null  float64\n",
      " 4   Sore-Throat              316800 non-null  float64\n",
      " 5   Pains                    316800 non-null  float64\n",
      " 6   Nasal-Congestion         316800 non-null  float64\n",
      " 7   Runny-Nose               316800 non-null  float64\n",
      " 8   Diarrhea                 316800 non-null  float64\n",
      " 9   Severity_None            316800 non-null  int64  \n",
      "dtypes: float64(9), int64(1)\n",
      "memory usage: 24.2 MB\n"
     ]
    }
   ],
   "source": [
    "ds1 = ds.drop(['Contact_Dont-Know', 'Contact_No', 'Contact_Yes', 'Country', 'None_Experiencing', 'Age_0-9', 'Age_10-19', 'Age_20-24', 'Age_25-59', 'Age_60+', 'Gender_Female', 'Gender_Male', 'Gender_Transgender', 'None_Sympton','Severity_Mild', 'Severity_Moderate', 'Severity_Severe'], axis = 1, inplace = False)\n",
    "ds1.info()\n",
    "train, test = train_test_split(ds1, test_size = 0.3, random_state=0)\n",
    "X_train = train.iloc[:, :19].values\n",
    "X_test = test.iloc[:, :19].values\n",
    "y_train = train.iloc[:, -1].values\n",
    "y_test = test.iloc[:, -1].values"
   ]
  },
  {
   "cell_type": "markdown",
   "id": "dab92ca9",
   "metadata": {},
   "source": [
    "#### estimar parámetros"
   ]
  },
  {
   "cell_type": "code",
   "execution_count": 22,
   "id": "ac6a35d8",
   "metadata": {},
   "outputs": [],
   "source": [
    "param_grid_knn = {\n",
    "    'n_neighbors': [2, 5, 10, 15],                                   \n",
    "    'algorithm': ['ball_tree', 'kd_tree', 'brute', 'auto'],          \n",
    "    'metric': ['minkowski', 'euclidean', 'manhattan', 'chebyshev']\n",
    "}\n",
    "\n",
    "kNNModel_grid = GridSearchCV(estimator=KNeighborsClassifier(), param_grid=param_grid_knn, verbose=1, cv=10, n_jobs=-1)\n",
    "\n",
    "kNNModel_grid.fit(X_train, y_train)\n",
    "print(kNNModel_grid.best_estimator_)"
   ]
  },
  {
   "cell_type": "markdown",
   "id": "fb634546",
   "metadata": {},
   "source": [
    "#### Generar de nuevo el clasificador KNN a partir de los parámetros calculados"
   ]
  },
  {
   "cell_type": "code",
   "execution_count": 23,
   "id": "0f65edf7",
   "metadata": {},
   "outputs": [
    {
     "data": {
      "text/html": [
       "<style>#sk-container-id-1 {color: black;}#sk-container-id-1 pre{padding: 0;}#sk-container-id-1 div.sk-toggleable {background-color: white;}#sk-container-id-1 label.sk-toggleable__label {cursor: pointer;display: block;width: 100%;margin-bottom: 0;padding: 0.3em;box-sizing: border-box;text-align: center;}#sk-container-id-1 label.sk-toggleable__label-arrow:before {content: \"▸\";float: left;margin-right: 0.25em;color: #696969;}#sk-container-id-1 label.sk-toggleable__label-arrow:hover:before {color: black;}#sk-container-id-1 div.sk-estimator:hover label.sk-toggleable__label-arrow:before {color: black;}#sk-container-id-1 div.sk-toggleable__content {max-height: 0;max-width: 0;overflow: hidden;text-align: left;background-color: #f0f8ff;}#sk-container-id-1 div.sk-toggleable__content pre {margin: 0.2em;color: black;border-radius: 0.25em;background-color: #f0f8ff;}#sk-container-id-1 input.sk-toggleable__control:checked~div.sk-toggleable__content {max-height: 200px;max-width: 100%;overflow: auto;}#sk-container-id-1 input.sk-toggleable__control:checked~label.sk-toggleable__label-arrow:before {content: \"▾\";}#sk-container-id-1 div.sk-estimator input.sk-toggleable__control:checked~label.sk-toggleable__label {background-color: #d4ebff;}#sk-container-id-1 div.sk-label input.sk-toggleable__control:checked~label.sk-toggleable__label {background-color: #d4ebff;}#sk-container-id-1 input.sk-hidden--visually {border: 0;clip: rect(1px 1px 1px 1px);clip: rect(1px, 1px, 1px, 1px);height: 1px;margin: -1px;overflow: hidden;padding: 0;position: absolute;width: 1px;}#sk-container-id-1 div.sk-estimator {font-family: monospace;background-color: #f0f8ff;border: 1px dotted black;border-radius: 0.25em;box-sizing: border-box;margin-bottom: 0.5em;}#sk-container-id-1 div.sk-estimator:hover {background-color: #d4ebff;}#sk-container-id-1 div.sk-parallel-item::after {content: \"\";width: 100%;border-bottom: 1px solid gray;flex-grow: 1;}#sk-container-id-1 div.sk-label:hover label.sk-toggleable__label {background-color: #d4ebff;}#sk-container-id-1 div.sk-serial::before {content: \"\";position: absolute;border-left: 1px solid gray;box-sizing: border-box;top: 0;bottom: 0;left: 50%;z-index: 0;}#sk-container-id-1 div.sk-serial {display: flex;flex-direction: column;align-items: center;background-color: white;padding-right: 0.2em;padding-left: 0.2em;position: relative;}#sk-container-id-1 div.sk-item {position: relative;z-index: 1;}#sk-container-id-1 div.sk-parallel {display: flex;align-items: stretch;justify-content: center;background-color: white;position: relative;}#sk-container-id-1 div.sk-item::before, #sk-container-id-1 div.sk-parallel-item::before {content: \"\";position: absolute;border-left: 1px solid gray;box-sizing: border-box;top: 0;bottom: 0;left: 50%;z-index: -1;}#sk-container-id-1 div.sk-parallel-item {display: flex;flex-direction: column;z-index: 1;position: relative;background-color: white;}#sk-container-id-1 div.sk-parallel-item:first-child::after {align-self: flex-end;width: 50%;}#sk-container-id-1 div.sk-parallel-item:last-child::after {align-self: flex-start;width: 50%;}#sk-container-id-1 div.sk-parallel-item:only-child::after {width: 0;}#sk-container-id-1 div.sk-dashed-wrapped {border: 1px dashed gray;margin: 0 0.4em 0.5em 0.4em;box-sizing: border-box;padding-bottom: 0.4em;background-color: white;}#sk-container-id-1 div.sk-label label {font-family: monospace;font-weight: bold;display: inline-block;line-height: 1.2em;}#sk-container-id-1 div.sk-label-container {text-align: center;}#sk-container-id-1 div.sk-container {/* jupyter's `normalize.less` sets `[hidden] { display: none; }` but bootstrap.min.css set `[hidden] { display: none !important; }` so we also need the `!important` here to be able to override the default hidden behavior on the sphinx rendered scikit-learn.org. See: https://github.com/scikit-learn/scikit-learn/issues/21755 */display: inline-block !important;position: relative;}#sk-container-id-1 div.sk-text-repr-fallback {display: none;}</style><div id=\"sk-container-id-1\" class=\"sk-top-container\"><div class=\"sk-text-repr-fallback\"><pre>KNeighborsClassifier(algorithm=&#x27;ball_tree&#x27;, n_neighbors=2)</pre><b>In a Jupyter environment, please rerun this cell to show the HTML representation or trust the notebook. <br />On GitHub, the HTML representation is unable to render, please try loading this page with nbviewer.org.</b></div><div class=\"sk-container\" hidden><div class=\"sk-item\"><div class=\"sk-estimator sk-toggleable\"><input class=\"sk-toggleable__control sk-hidden--visually\" id=\"sk-estimator-id-1\" type=\"checkbox\" checked><label for=\"sk-estimator-id-1\" class=\"sk-toggleable__label sk-toggleable__label-arrow\">KNeighborsClassifier</label><div class=\"sk-toggleable__content\"><pre>KNeighborsClassifier(algorithm=&#x27;ball_tree&#x27;, n_neighbors=2)</pre></div></div></div></div></div>"
      ],
      "text/plain": [
       "KNeighborsClassifier(algorithm='ball_tree', n_neighbors=2)"
      ]
     },
     "execution_count": 23,
     "metadata": {},
     "output_type": "execute_result"
    }
   ],
   "source": [
    "knn = KNeighborsClassifier(algorithm='ball_tree', n_neighbors=2) #setting up the KNN model to use 2NN - alg \"ball-tree\"\n",
    "knn.fit(X_train, y_train) #fitting the KNN"
   ]
  },
  {
   "cell_type": "markdown",
   "id": "eee706b4",
   "metadata": {},
   "source": [
    "#### validar rendimiento del modelo"
   ]
  },
  {
   "cell_type": "code",
   "execution_count": 24,
   "id": "8c39b2d4",
   "metadata": {},
   "outputs": [
    {
     "name": "stdout",
     "output_type": "stream",
     "text": [
      "Accuracy of K-NN classifier on training set: 1.00\n",
      "Accuracy of K-NN classifier on test set: 1.00\n"
     ]
    }
   ],
   "source": [
    "#Checking performance on the training set\n",
    "print('Accuracy of K-NN classifier on training set: {:.2f}'\n",
    "     .format(knn.score(X_train, y_train)))\n",
    "#Checking performance on the test set\n",
    "print('Accuracy of K-NN classifier on test set: {:.2f}'\n",
    "     .format(knn.score(X_test, y_test)))"
   ]
  },
  {
   "cell_type": "code",
   "execution_count": 26,
   "id": "3e8d986d",
   "metadata": {},
   "outputs": [
    {
     "name": "stdout",
     "output_type": "stream",
     "text": [
      "Precision :  1.0\n",
      "Recall :  1.0\n",
      "Accuracy :  1.0\n",
      "F1 Score :  1.0\n",
      "\n",
      "[[71352     0]\n",
      " [    0 23688]] \n",
      "\n"
     ]
    },
    {
     "data": {
      "image/png": "[encoded data removed]",
      "text/plain": [
       "<Figure size 640x480 with 2 Axes>"
      ]
     },
     "metadata": {},
     "output_type": "display_data"
    }
   ],
   "source": [
    "y_pred_knn = knn.predict(X_test)\n",
    "perform(y_test, y_pred_knn, 'Severity_None')"
   ]
  },
  {
   "cell_type": "code",
   "execution_count": 27,
   "id": "16216b54",
   "metadata": {},
   "outputs": [
    {
     "name": "stdout",
     "output_type": "stream",
     "text": [
      "              precision    recall  f1-score   support\n",
      "\n",
      "           0       1.00      1.00      1.00     71352\n",
      "           1       1.00      1.00      1.00     23688\n",
      "\n",
      "    accuracy                           1.00     95040\n",
      "   macro avg       1.00      1.00      1.00     95040\n",
      "weighted avg       1.00      1.00      1.00     95040\n",
      "\n"
     ]
    }
   ],
   "source": [
    "print(classification_report(y_test, y_pred_knn))"
   ]
  },
  {
   "cell_type": "code",
   "execution_count": null,
   "id": "a06e03fc",
   "metadata": {},
   "outputs": [],
   "source": []
  }
 ],
 "metadata": {
  "kernelspec": {
   "display_name": "Python 3 (ipykernel)",
   "language": "python",
   "name": "python3"
  },
  "language_info": {
   "codemirror_mode": {
    "name": "ipython",
    "version": 3
   },
   "file_extension": ".py",
   "mimetype": "text/x-python",
   "name": "python",
   "nbconvert_exporter": "python",
   "pygments_lexer": "ipython3",
   "version": "3.11.5"
  }
 },
 "nbformat": 4,
 "nbformat_minor": 5
}
